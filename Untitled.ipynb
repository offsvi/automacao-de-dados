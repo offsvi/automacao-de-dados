{
 "cells": [
  {
   "cell_type": "code",
   "execution_count": null,
   "id": "dbcfc847",
   "metadata": {},
   "outputs": [],
   "source": [
    "# Abrir uma nova aba no navegador\n",
    "# Entrar no sistema de dados\n",
    "# Colocar login e senha \n",
    "# Baixar o arquivo de dados \n",
    "# Fazer a leitura dos dados \n",
    "# Eviar email com toda a ánalise"
   ]
  },
  {
   "cell_type": "code",
   "execution_count": 13,
   "id": "63a5e90e",
   "metadata": {},
   "outputs": [],
   "source": [
    "import time\n",
    "import pyautogui as py\n",
    "py.hotkey(\"ctrl\", \"t\")\n",
    "\n",
    "\n"
   ]
  }
 ],
 "metadata": {
  "kernelspec": {
   "display_name": "Python 3 (ipykernel)",
   "language": "python",
   "name": "python3"
  },
  "language_info": {
   "codemirror_mode": {
    "name": "ipython",
    "version": 3
   },
   "file_extension": ".py",
   "mimetype": "text/x-python",
   "name": "python",
   "nbconvert_exporter": "python",
   "pygments_lexer": "ipython3",
   "version": "3.9.13"
  }
 },
 "nbformat": 4,
 "nbformat_minor": 5
}
