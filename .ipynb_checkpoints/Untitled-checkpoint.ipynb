{
 "cells": [
  {
   "cell_type": "code",
   "execution_count": null,
   "id": "e298aeba",
   "metadata": {},
   "outputs": [],
   "source": [
    "# Abrir uma nova aba no navegador\n",
    "# Entrar no sistema de dados\n",
    "# Colocar login e senha \n",
    "# Baixar o arquivo de dados \n",
    "# Fazer a leitura dos dados \n",
    "# Eviar email com toda a ánalise"
   ]
  },
  {
   "cell_type": "code",
   "execution_count": 43,
   "id": "63a5e90e",
   "metadata": {},
   "outputs": [],
   "source": [
    "import time\n",
    "import pyautogui as py\n",
    "\n",
    "py.PAUSE = 1\n",
    "\n",
    "py.press(\"win\")\n",
    "py.write(\"brave\")\n",
    "py.press(\"enter\")\n",
    "\n",
    "time.sleep(2)\n",
    "\n",
    "py.write(\"https://pages.hashtagtreinamentos.com/aula1-intensivao-sistema\")\n",
    "py.press(\"enter\")\n",
    "py.click(x=620, y=368)\n",
    "py.write(\"vitor_login\")\n",
    "py.click(x=585, y=447)\n",
    "py.write(\"040404\")\n",
    "py.click(x=668, y=528)\n",
    "\n",
    "time.sleep(3)\n",
    "\n",
    "py.click(x=379, y=377)\n",
    "py.click(x=1165, y=184)\n",
    "py.click(x=951, y=584)\n",
    "\n",
    "time.sleep(3)\n",
    "\n",
    "py.click(x=96, y=178) # Posição area de trabalho\n",
    "py.doubleClick(x=249, y=166) # Posição casinha\n",
    "\n",
    "time.sleep(0.5)\n",
    "py.scroll(-2000)\n",
    "\n",
    "time.sleep(2)\n"
   ]
  },
  {
   "cell_type": "code",
   "execution_count": 40,
   "id": "d4177b7c",
   "metadata": {},
   "outputs": [
    {
     "name": "stdout",
     "output_type": "stream",
     "text": [
      "Point(x=388, y=289)\n"
     ]
    }
   ],
   "source": [
    "time.sleep(10)\n",
    "print(pyautogui.position())"
   ]
  },
  {
   "cell_type": "code",
   "execution_count": null,
   "id": "fdaa8f1f",
   "metadata": {},
   "outputs": [],
   "source": [
    "import pandas as pd\n",
    "\n"
   ]
  }
 ],
 "metadata": {
  "kernelspec": {
   "display_name": "Python 3 (ipykernel)",
   "language": "python",
   "name": "python3"
  },
  "language_info": {
   "codemirror_mode": {
    "name": "ipython",
    "version": 3
   },
   "file_extension": ".py",
   "mimetype": "text/x-python",
   "name": "python",
   "nbconvert_exporter": "python",
   "pygments_lexer": "ipython3",
   "version": "3.9.13"
  }
 },
 "nbformat": 4,
 "nbformat_minor": 5
}
